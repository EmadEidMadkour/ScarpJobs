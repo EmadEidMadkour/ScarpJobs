{
 "cells": [
  {
   "cell_type": "code",
   "execution_count": 5,
   "id": "53b3496d-9352-4a62-8b1a-00b942e132c8",
   "metadata": {},
   "outputs": [],
   "source": [
    "import requests\n",
    "from bs4 import BeautifulSoup\n",
    "import csv"
   ]
  },
  {
   "cell_type": "code",
   "execution_count": 2,
   "id": "9a591ec6-43f3-4d1d-b5dd-47cccefbc475",
   "metadata": {},
   "outputs": [],
   "source": [
    "response=requests.get(\"https://realpython.github.io/fake-jobs/\")"
   ]
  },
  {
   "cell_type": "code",
   "execution_count": 3,
   "id": "6b82c917-82bf-448e-a9cd-e29a1c441b56",
   "metadata": {},
   "outputs": [
    {
     "data": {
      "text/plain": [
       "<Response [200]>"
      ]
     },
     "execution_count": 3,
     "metadata": {},
     "output_type": "execute_result"
    }
   ],
   "source": [
    "response"
   ]
  },
  {
   "cell_type": "code",
   "execution_count": 10,
   "id": "485e7bff-639c-4fd9-bc58-21cb2e6098f4",
   "metadata": {},
   "outputs": [],
   "source": [
    "soup=BeautifulSoup(response.text,\"html.parser\")"
   ]
  },
  {
   "cell_type": "code",
   "execution_count": 37,
   "id": "a398ed28-4a04-41e7-bb9c-0ea355499622",
   "metadata": {},
   "outputs": [
    {
     "data": {
      "text/plain": [
       "['', 'Senior Python Developer', 'Payne, Roberts and Davis', '']"
      ]
     },
     "execution_count": 37,
     "metadata": {},
     "output_type": "execute_result"
    }
   ],
   "source": [
    "soup.find_all(\"div\",attrs={\"class\":\"media-content\"})[0].get_text().split(\"\\n\")"
   ]
  },
  {
   "cell_type": "code",
   "execution_count": null,
   "id": "cb3163c5-417e-4603-9cab-bb88f77f9749",
   "metadata": {},
   "outputs": [],
   "source": [
    "job=soup.find_all(\"div\",attrs={\"class\":\"media-content\"})[0].get_text().split(\"\\n\")[1]"
   ]
  },
  {
   "cell_type": "code",
   "execution_count": 36,
   "id": "32335a9f-826f-4ba9-8eef-d55a0cf6826b",
   "metadata": {},
   "outputs": [
    {
     "data": {
      "text/plain": [
       "'Senior Python Developer'"
      ]
     },
     "execution_count": 36,
     "metadata": {},
     "output_type": "execute_result"
    }
   ],
   "source": [
    "job"
   ]
  },
  {
   "cell_type": "code",
   "execution_count": 39,
   "id": "76e15be7-2cea-4090-9fd8-70d7c3af0eca",
   "metadata": {},
   "outputs": [
    {
     "data": {
      "text/plain": [
       "'Payne, Roberts and Davis'"
      ]
     },
     "execution_count": 39,
     "metadata": {},
     "output_type": "execute_result"
    }
   ],
   "source": [
    "name=soup.find_all(\"div\",attrs={\"class\":\"media-content\"})[0].get_text().split(\"\\n\")[2]\n",
    "name"
   ]
  },
  {
   "cell_type": "code",
   "execution_count": 42,
   "id": "56c55a7a-ba70-4462-b595-ef96628a0d80",
   "metadata": {},
   "outputs": [
    {
     "data": {
      "text/plain": [
       "['', '', '        Stewartbury, AA', '      ', '', '2021-04-08', '', '']"
      ]
     },
     "execution_count": 42,
     "metadata": {},
     "output_type": "execute_result"
    }
   ],
   "source": [
    "soup.find_all(\"div\",attrs={\"class\":\"content\"})[0].get_text().split(\"\\n\")"
   ]
  },
  {
   "cell_type": "code",
   "execution_count": 46,
   "id": "d03af797-9150-4337-a46b-de3582ed1f2f",
   "metadata": {},
   "outputs": [
    {
     "data": {
      "text/plain": [
       "'Stewartbury, AA'"
      ]
     },
     "execution_count": 46,
     "metadata": {},
     "output_type": "execute_result"
    }
   ],
   "source": [
    "company=soup.find_all(\"div\",attrs={\"class\":\"content\"})[0].get_text().split(\"\\n\")[2].strip()"
   ]
  },
  {
   "cell_type": "code",
   "execution_count": 54,
   "id": "a7ea4d25-bf81-4c68-8ccf-1658dabf81bd",
   "metadata": {},
   "outputs": [
    {
     "data": {
      "text/plain": [
       "'2021-04-08'"
      ]
     },
     "execution_count": 54,
     "metadata": {},
     "output_type": "execute_result"
    }
   ],
   "source": [
    "date=soup.find_all(\"div\",attrs={\"class\":\"content\"})[0].get_text().split(\"\\n\")[5]\n",
    "date"
   ]
  },
  {
   "cell_type": "code",
   "execution_count": 67,
   "id": "78640b0a-d10f-4a3c-b655-9143f6086c0c",
   "metadata": {},
   "outputs": [],
   "source": [
    "#Final Code\n",
    "job=[]\n",
    "name=[]\n",
    "company=[]\n",
    "date=[]\n",
    "\n",
    "with open(\"jobs.csv\",\"w\",newline=\"\") as file:\n",
    "    writer=csv.DictWriter(file,fieldnames=[\"Job\",\"Name\",\"Company\",\"Date\"])\n",
    "    writer.writeheader()\n",
    "    for x in soup.find_all(\"div\",attrs={\"class\":\"media-content\"}):\n",
    "        job.append(x.get_text().split(\"\\n\")[1])\n",
    "        name.append(x.get_text().split(\"\\n\")[2])\n",
    "    for i in soup.find_all(\"div\",attrs={\"class\":\"content\"}):\n",
    "        company.append(i.get_text().split(\"\\n\")[2].strip())\n",
    "        date.append(i.get_text().split(\"\\n\")[5])\n",
    "    for z in range(len(name)):\n",
    "        writer.writerow({\"Job\":job[z],\"Name\":name[z],\"Company\":company[z],\"Date\":date[z]})"
   ]
  }
 ],
 "metadata": {
  "kernelspec": {
   "display_name": "Python 3 (ipykernel)",
   "language": "python",
   "name": "python3"
  },
  "language_info": {
   "codemirror_mode": {
    "name": "ipython",
    "version": 3
   },
   "file_extension": ".py",
   "mimetype": "text/x-python",
   "name": "python",
   "nbconvert_exporter": "python",
   "pygments_lexer": "ipython3",
   "version": "3.10.13"
  }
 },
 "nbformat": 4,
 "nbformat_minor": 5
}
